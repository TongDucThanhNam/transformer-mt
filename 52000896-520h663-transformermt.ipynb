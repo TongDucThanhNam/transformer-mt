{
 "cells": [
  {
   "cell_type": "markdown",
   "id": "57d2e246",
   "metadata": {
    "papermill": {
     "duration": 0.013719,
     "end_time": "2023-05-09T16:53:13.222124",
     "exception": false,
     "start_time": "2023-05-09T16:53:13.208405",
     "status": "completed"
    },
    "tags": []
   },
   "source": [
    "# Machine Translation with Transformer\n",
    "- Tống Đức Thành Nam - 52000896\n",
    "- Phạm Lê Trọng Nhân - 520H0663"
   ]
  },
  {
   "cell_type": "markdown",
   "id": "ab37e7de",
   "metadata": {
    "papermill": {
     "duration": 0.01275,
     "end_time": "2023-05-09T16:53:13.248146",
     "exception": false,
     "start_time": "2023-05-09T16:53:13.235396",
     "status": "completed"
    },
    "tags": []
   },
   "source": [
    "## Cài đặt các thư viện cần thiết"
   ]
  },
  {
   "cell_type": "code",
   "execution_count": 1,
   "id": "fac511c2",
   "metadata": {
    "ExecuteTime": {
     "end_time": "2023-05-09T23:36:06.631238Z",
     "start_time": "2023-05-09T23:36:01.957197Z"
    },
    "execution": {
     "iopub.execute_input": "2023-05-09T16:53:13.276430Z",
     "iopub.status.busy": "2023-05-09T16:53:13.275895Z",
     "iopub.status.idle": "2023-05-09T16:53:38.928702Z",
     "shell.execute_reply": "2023-05-09T16:53:38.927507Z"
    },
    "papermill": {
     "duration": 25.670026,
     "end_time": "2023-05-09T16:53:38.931311",
     "exception": false,
     "start_time": "2023-05-09T16:53:13.261285",
     "status": "completed"
    },
    "tags": []
   },
   "outputs": [
    {
     "name": "stdout",
     "output_type": "stream",
     "text": [
      "\u001b[33mWARNING: Running pip as the 'root' user can result in broken permissions and conflicting behaviour with the system package manager. It is recommended to use a virtual environment instead: https://pip.pypa.io/warnings/venv\u001b[0m\u001b[33m\r\n",
      "\u001b[0m\u001b[33mWARNING: Running pip as the 'root' user can result in broken permissions and conflicting behaviour with the system package manager. It is recommended to use a virtual environment instead: https://pip.pypa.io/warnings/venv\u001b[0m\u001b[33m\r\n",
      "\u001b[0m"
     ]
    }
   ],
   "source": [
    "!pip install underthesea --quiet\n",
    "!pip install gdown --quiet"
   ]
  },
  {
   "cell_type": "code",
   "execution_count": 2,
   "id": "aa8db9f5",
   "metadata": {
    "ExecuteTime": {
     "end_time": "2023-05-09T23:37:00.012045Z",
     "start_time": "2023-05-09T23:36:06.632755Z"
    },
    "execution": {
     "iopub.execute_input": "2023-05-09T16:53:38.961656Z",
     "iopub.status.busy": "2023-05-09T16:53:38.961237Z",
     "iopub.status.idle": "2023-05-09T16:53:48.838202Z",
     "shell.execute_reply": "2023-05-09T16:53:48.836707Z"
    },
    "papermill": {
     "duration": 9.89578,
     "end_time": "2023-05-09T16:53:48.840929",
     "exception": false,
     "start_time": "2023-05-09T16:53:38.945149",
     "status": "completed"
    },
    "tags": []
   },
   "outputs": [
    {
     "name": "stdout",
     "output_type": "stream",
     "text": [
      "Downloading...\r\n",
      "From (uriginal): https://drive.google.com/uc?id=16f1Y_9CIBDSd9kuOUyELP6wrzcPzDMAz\r\n",
      "From (redirected): https://drive.google.com/uc?id=16f1Y_9CIBDSd9kuOUyELP6wrzcPzDMAz&confirm=t&uuid=06071608-9349-4206-a1e9-a92bee70a271\r\n",
      "To: /kaggle/working/checkpoints_40.zip\r\n",
      "100%|████████████████████████████████████████| 465M/465M [00:07<00:00, 59.9MB/s]\r\n"
     ]
    }
   ],
   "source": [
    "# !gdown 1yVlHqk2GxcqwaoyCKcKeogCL8p1btTwl\n",
    "# !gdown 1gpwqKVHFkRjBF7kkFYX2hzyvPaTt4DDb\n",
    "# !gdown 16SSWfAsX7oriLy5UGg0FMdOWcvts9Y7l\n",
    "# !gdown 1H8KfE6zKePMl6WIf5-i7bVksdztrEcqA\n",
    "# Tải checkpoints từ goodle drive 40 epoch \n",
    "!gdown 16f1Y_9CIBDSd9kuOUyELP6wrzcPzDMAz"
   ]
  },
  {
   "cell_type": "code",
   "execution_count": 3,
   "id": "4ef0355d",
   "metadata": {
    "ExecuteTime": {
     "end_time": "2023-05-09T23:37:03.716165Z",
     "start_time": "2023-05-09T23:37:00.015044Z"
    },
    "execution": {
     "iopub.execute_input": "2023-05-09T16:53:48.876694Z",
     "iopub.status.busy": "2023-05-09T16:53:48.876220Z",
     "iopub.status.idle": "2023-05-09T16:54:00.178313Z",
     "shell.execute_reply": "2023-05-09T16:54:00.176830Z"
    },
    "papermill": {
     "duration": 11.323404,
     "end_time": "2023-05-09T16:54:00.181639",
     "exception": false,
     "start_time": "2023-05-09T16:53:48.858235",
     "status": "completed"
    },
    "tags": []
   },
   "outputs": [
    {
     "name": "stderr",
     "output_type": "stream",
     "text": [
      "/opt/conda/lib/python3.10/site-packages/scipy/__init__.py:146: UserWarning: A NumPy version >=1.16.5 and <1.23.0 is required for this version of SciPy (detected version 1.23.5\n",
      "  warnings.warn(f\"A NumPy version >={np_minversion} and <{np_maxversion}\"\n"
     ]
    }
   ],
   "source": [
    "import os\n",
    "import io\n",
    "import time\n",
    "import json\n",
    "import pickle\n",
    "import numpy as np\n",
    "import tensorflow as tf\n",
    "from keras.metrics import Mean\n",
    "import matplotlib.pyplot as plt\n",
    "from keras.optimizers import Adam\n",
    "from underthesea import word_tokenize\n",
    "from keras.utils import pad_sequences\n",
    "from keras.losses import SparseCategoricalCrossentropy\n",
    "from keras.preprocessing.text import tokenizer_from_json, Tokenizer"
   ]
  },
  {
   "cell_type": "code",
   "execution_count": 4,
   "id": "f88c60c5",
   "metadata": {
    "ExecuteTime": {
     "end_time": "2023-05-09T23:37:06.048582Z",
     "start_time": "2023-05-09T23:37:03.731329Z"
    },
    "execution": {
     "iopub.execute_input": "2023-05-09T16:54:00.218787Z",
     "iopub.status.busy": "2023-05-09T16:54:00.218001Z",
     "iopub.status.idle": "2023-05-09T16:54:04.203173Z",
     "shell.execute_reply": "2023-05-09T16:54:04.202034Z"
    },
    "papermill": {
     "duration": 4.007391,
     "end_time": "2023-05-09T16:54:04.206183",
     "exception": false,
     "start_time": "2023-05-09T16:54:00.198792",
     "status": "completed"
    },
    "tags": []
   },
   "outputs": [],
   "source": [
    "import zipfile\n",
    "\n",
    "# Đường dẫn tới file zip\n",
    "zip_path = 'checkpoints_40.zip'\n",
    "\n",
    "# Tạo đối tượng zipfile và giải nén file\n",
    "with zipfile.ZipFile(zip_path, 'r') as zip_ref:\n",
    "    zip_ref.extractall()"
   ]
  },
  {
   "cell_type": "code",
   "execution_count": 5,
   "id": "afea29eb",
   "metadata": {
    "ExecuteTime": {
     "end_time": "2023-05-09T23:37:06.063276Z",
     "start_time": "2023-05-09T23:37:06.049582Z"
    },
    "execution": {
     "iopub.execute_input": "2023-05-09T16:54:04.243248Z",
     "iopub.status.busy": "2023-05-09T16:54:04.242268Z",
     "iopub.status.idle": "2023-05-09T16:54:04.248782Z",
     "shell.execute_reply": "2023-05-09T16:54:04.247552Z"
    },
    "papermill": {
     "duration": 0.027432,
     "end_time": "2023-05-09T16:54:04.250969",
     "exception": false,
     "start_time": "2023-05-09T16:54:04.223537",
     "status": "completed"
    },
    "tags": []
   },
   "outputs": [],
   "source": [
    "ENCODER_LEN = 100 # max length of encoder input\n",
    "DECODER_LEN = 100 # max length of decoder input\n",
    "BATCH_SIZE = 64 # batch size\n",
    "BUFFER_SIZE = BATCH_SIZE * 8 # buffer size for shuffling"
   ]
  },
  {
   "cell_type": "markdown",
   "id": "049820d3",
   "metadata": {
    "papermill": {
     "duration": 0.016601,
     "end_time": "2023-05-09T16:54:04.283566",
     "exception": false,
     "start_time": "2023-05-09T16:54:04.266965",
     "status": "completed"
    },
    "tags": []
   },
   "source": [
    "## Load dữ liệu và tiền xử lý"
   ]
  },
  {
   "cell_type": "code",
   "execution_count": 6,
   "id": "bdfee03f",
   "metadata": {
    "ExecuteTime": {
     "end_time": "2023-05-09T23:37:06.235073Z",
     "start_time": "2023-05-09T23:37:06.066639Z"
    },
    "execution": {
     "iopub.execute_input": "2023-05-09T16:54:04.318897Z",
     "iopub.status.busy": "2023-05-09T16:54:04.317749Z",
     "iopub.status.idle": "2023-05-09T16:54:05.346878Z",
     "shell.execute_reply": "2023-05-09T16:54:05.345488Z"
    },
    "papermill": {
     "duration": 1.049649,
     "end_time": "2023-05-09T16:54:05.349555",
     "exception": false,
     "start_time": "2023-05-09T16:54:04.299906",
     "status": "completed"
    },
    "tags": []
   },
   "outputs": [],
   "source": [
    "# Load the English and Vietnamese sentences from the text files\n",
    "with open(\"/kaggle/input/englishvietnamese-translation/en_sents\", \"r\", encoding=\"utf-8\") as f_en, \\\n",
    "        open(\"/kaggle/input/englishvietnamese-translation/vi_sents\", \"r\", encoding=\"utf-8\") as f_vi:\n",
    "    en_lines = f_en.read().splitlines()\n",
    "    vi_lines = f_vi.read().splitlines()"
   ]
  },
  {
   "cell_type": "code",
   "execution_count": 7,
   "id": "196aea1e",
   "metadata": {
    "ExecuteTime": {
     "end_time": "2023-05-09T23:37:06.249896Z",
     "start_time": "2023-05-09T23:37:06.236077Z"
    },
    "execution": {
     "iopub.execute_input": "2023-05-09T16:54:05.386122Z",
     "iopub.status.busy": "2023-05-09T16:54:05.385692Z",
     "iopub.status.idle": "2023-05-09T16:54:05.391575Z",
     "shell.execute_reply": "2023-05-09T16:54:05.390362Z"
    },
    "papermill": {
     "duration": 0.027391,
     "end_time": "2023-05-09T16:54:05.394644",
     "exception": false,
     "start_time": "2023-05-09T16:54:05.367253",
     "status": "completed"
    },
    "tags": []
   },
   "outputs": [
    {
     "name": "stdout",
     "output_type": "stream",
     "text": [
      "Number of English sentences: 254090\n",
      "Number of Vietnamese sentences: 254090\n"
     ]
    }
   ],
   "source": [
    "print(f\"Number of English sentences: {len(en_lines)}\")\n",
    "print(f\"Number of Vietnamese sentences: {len(vi_lines)}\")"
   ]
  },
  {
   "cell_type": "code",
   "execution_count": 8,
   "id": "ed40c915",
   "metadata": {
    "ExecuteTime": {
     "end_time": "2023-05-09T23:37:06.293401Z",
     "start_time": "2023-05-09T23:37:06.259101Z"
    },
    "execution": {
     "iopub.execute_input": "2023-05-09T16:54:05.429460Z",
     "iopub.status.busy": "2023-05-09T16:54:05.429055Z",
     "iopub.status.idle": "2023-05-09T16:54:05.473034Z",
     "shell.execute_reply": "2023-05-09T16:54:05.471789Z"
    },
    "papermill": {
     "duration": 0.06412,
     "end_time": "2023-05-09T16:54:05.475660",
     "exception": false,
     "start_time": "2023-05-09T16:54:05.411540",
     "status": "completed"
    },
    "tags": []
   },
   "outputs": [],
   "source": [
    "# Split the data into train, validation, and test sets\n",
    "train_size = int(0.8 * len(en_lines))\n",
    "val_size = int(0.1 * len(en_lines))\n",
    "test_size = len(en_lines) - train_size - val_size\n",
    "\n",
    "train_data = {\"en\": en_lines[:train_size], \"vi\": vi_lines[:train_size]}\n",
    "val_data = {\"en\": en_lines[train_size:train_size + val_size], \"vi\": vi_lines[train_size:train_size + val_size]}\n",
    "test_data = {\"en\": en_lines[train_size + val_size:], \"vi\": vi_lines[train_size + val_size:]}"
   ]
  },
  {
   "cell_type": "code",
   "execution_count": 9,
   "id": "554d208e",
   "metadata": {
    "ExecuteTime": {
     "end_time": "2023-05-09T23:37:06.293401Z",
     "start_time": "2023-05-09T23:37:06.266767Z"
    },
    "execution": {
     "iopub.execute_input": "2023-05-09T16:54:05.513530Z",
     "iopub.status.busy": "2023-05-09T16:54:05.513092Z",
     "iopub.status.idle": "2023-05-09T16:54:05.519830Z",
     "shell.execute_reply": "2023-05-09T16:54:05.518223Z"
    },
    "papermill": {
     "duration": 0.029857,
     "end_time": "2023-05-09T16:54:05.522447",
     "exception": false,
     "start_time": "2023-05-09T16:54:05.492590",
     "status": "completed"
    },
    "tags": []
   },
   "outputs": [
    {
     "name": "stdout",
     "output_type": "stream",
     "text": [
      "Number of English sentences: 203272\n",
      "Number of Vietnamese sentences: 203272\n"
     ]
    }
   ],
   "source": [
    "print(f\"Number of English sentences: {len(train_data['en'])}\")\n",
    "print(f\"Number of Vietnamese sentences: {len(train_data['vi'])}\")"
   ]
  },
  {
   "cell_type": "code",
   "execution_count": 10,
   "id": "632dd6f5",
   "metadata": {
    "ExecuteTime": {
     "end_time": "2023-05-09T23:37:06.305451Z",
     "start_time": "2023-05-09T23:37:06.282752Z"
    },
    "execution": {
     "iopub.execute_input": "2023-05-09T16:54:05.558804Z",
     "iopub.status.busy": "2023-05-09T16:54:05.558020Z",
     "iopub.status.idle": "2023-05-09T16:54:05.567520Z",
     "shell.execute_reply": "2023-05-09T16:54:05.566379Z"
    },
    "papermill": {
     "duration": 0.030555,
     "end_time": "2023-05-09T16:54:05.570231",
     "exception": false,
     "start_time": "2023-05-09T16:54:05.539676",
     "status": "completed"
    },
    "tags": []
   },
   "outputs": [
    {
     "data": {
      "text/plain": [
       "['Please put the dustpan in the broom closet',\n",
       " 'Be quiet for a moment.',\n",
       " 'Read this']"
      ]
     },
     "execution_count": 10,
     "metadata": {},
     "output_type": "execute_result"
    }
   ],
   "source": [
    "train_data[\"en\"][:3]"
   ]
  },
  {
   "cell_type": "code",
   "execution_count": 11,
   "id": "1e0c816c",
   "metadata": {
    "ExecuteTime": {
     "end_time": "2023-05-09T23:37:06.371970Z",
     "start_time": "2023-05-09T23:37:06.316447Z"
    },
    "execution": {
     "iopub.execute_input": "2023-05-09T16:54:05.607073Z",
     "iopub.status.busy": "2023-05-09T16:54:05.606663Z",
     "iopub.status.idle": "2023-05-09T16:54:05.614041Z",
     "shell.execute_reply": "2023-05-09T16:54:05.612895Z"
    },
    "papermill": {
     "duration": 0.028611,
     "end_time": "2023-05-09T16:54:05.616432",
     "exception": false,
     "start_time": "2023-05-09T16:54:05.587821",
     "status": "completed"
    },
    "tags": []
   },
   "outputs": [
    {
     "data": {
      "text/plain": [
       "['xin vui lòng đặt người quét rác trong tủ chổi', 'im lặng một lát', 'đọc này']"
      ]
     },
     "execution_count": 11,
     "metadata": {},
     "output_type": "execute_result"
    }
   ],
   "source": [
    "train_data[\"vi\"][:3]"
   ]
  },
  {
   "cell_type": "code",
   "execution_count": 12,
   "id": "80b7b319",
   "metadata": {
    "ExecuteTime": {
     "end_time": "2023-05-09T23:37:06.385969Z",
     "start_time": "2023-05-09T23:37:06.329658Z"
    },
    "execution": {
     "iopub.execute_input": "2023-05-09T16:54:05.652211Z",
     "iopub.status.busy": "2023-05-09T16:54:05.651798Z",
     "iopub.status.idle": "2023-05-09T16:54:05.657739Z",
     "shell.execute_reply": "2023-05-09T16:54:05.656659Z"
    },
    "papermill": {
     "duration": 0.026915,
     "end_time": "2023-05-09T16:54:05.659951",
     "exception": false,
     "start_time": "2023-05-09T16:54:05.633036",
     "status": "completed"
    },
    "tags": []
   },
   "outputs": [],
   "source": [
    "def vietnamese_tokenizer(text):\n",
    "    text = word_tokenize(text)\n",
    "    text.insert(0, \"<S>\")\n",
    "    text.append(\"</S>\")\n",
    "    return text"
   ]
  },
  {
   "cell_type": "code",
   "execution_count": 13,
   "id": "16b7e9f6",
   "metadata": {
    "ExecuteTime": {
     "end_time": "2023-05-09T23:39:54.718815Z",
     "start_time": "2023-05-09T23:37:06.346664Z"
    },
    "execution": {
     "iopub.execute_input": "2023-05-09T16:54:05.697633Z",
     "iopub.status.busy": "2023-05-09T16:54:05.697246Z",
     "iopub.status.idle": "2023-05-09T16:57:14.653300Z",
     "shell.execute_reply": "2023-05-09T16:57:14.651939Z"
    },
    "papermill": {
     "duration": 188.977749,
     "end_time": "2023-05-09T16:57:14.656285",
     "exception": false,
     "start_time": "2023-05-09T16:54:05.678536",
     "status": "completed"
    },
    "tags": []
   },
   "outputs": [],
   "source": [
    "filters = '!\"#$%&()*+,-./:;=?@[\\\\]^_`{|}~\\t\\n'\n",
    "\n",
    "oov_token = '<Unknow>'\n",
    "\n",
    "english_tokenizer = Tokenizer(\n",
    "    filters=filters,\n",
    "    oov_token=oov_token,\n",
    "    analyzer=vietnamese_tokenizer\n",
    ")\n",
    "vietnamese_tokenizer = Tokenizer(\n",
    "    filters=filters,\n",
    "    oov_token=oov_token,\n",
    "    analyzer=vietnamese_tokenizer\n",
    ")\n",
    "english_tokenizer.fit_on_texts(train_data[\"en\"])\n",
    "vietnamese_tokenizer.fit_on_texts(train_data[\"vi\"])"
   ]
  },
  {
   "cell_type": "code",
   "execution_count": 14,
   "id": "eb4e788e",
   "metadata": {
    "ExecuteTime": {
     "end_time": "2023-05-09T23:42:54.916200Z",
     "start_time": "2023-05-09T23:39:54.719845Z"
    },
    "execution": {
     "iopub.execute_input": "2023-05-09T16:57:14.692753Z",
     "iopub.status.busy": "2023-05-09T16:57:14.692276Z",
     "iopub.status.idle": "2023-05-09T17:00:18.606064Z",
     "shell.execute_reply": "2023-05-09T17:00:18.604958Z"
    },
    "papermill": {
     "duration": 183.93484,
     "end_time": "2023-05-09T17:00:18.608604",
     "exception": false,
     "start_time": "2023-05-09T16:57:14.673764",
     "status": "completed"
    },
    "tags": []
   },
   "outputs": [],
   "source": [
    "inputs = english_tokenizer.texts_to_sequences(train_data[\"en\"])\n",
    "targets = vietnamese_tokenizer.texts_to_sequences(train_data[\"vi\"])"
   ]
  },
  {
   "cell_type": "code",
   "execution_count": 15,
   "id": "2b5cc3e6",
   "metadata": {
    "ExecuteTime": {
     "end_time": "2023-05-09T23:42:54.932913Z",
     "start_time": "2023-05-09T23:42:54.918665Z"
    },
    "execution": {
     "iopub.execute_input": "2023-05-09T17:00:18.645670Z",
     "iopub.status.busy": "2023-05-09T17:00:18.645060Z",
     "iopub.status.idle": "2023-05-09T17:00:18.650370Z",
     "shell.execute_reply": "2023-05-09T17:00:18.649299Z"
    },
    "papermill": {
     "duration": 0.026409,
     "end_time": "2023-05-09T17:00:18.652784",
     "exception": false,
     "start_time": "2023-05-09T17:00:18.626375",
     "status": "completed"
    },
    "tags": []
   },
   "outputs": [
    {
     "name": "stdout",
     "output_type": "stream",
     "text": [
      "23586 13591\n"
     ]
    }
   ],
   "source": [
    "ENCODER_VOCAB = len(english_tokenizer.word_index) + 1\n",
    "DECODER_VOCAB = len(vietnamese_tokenizer.word_index) + 1\n",
    "print(ENCODER_VOCAB, DECODER_VOCAB)"
   ]
  },
  {
   "cell_type": "code",
   "execution_count": 16,
   "id": "c593b3b1",
   "metadata": {
    "ExecuteTime": {
     "end_time": "2023-05-09T23:42:55.961643Z",
     "start_time": "2023-05-09T23:42:54.934915Z"
    },
    "execution": {
     "iopub.execute_input": "2023-05-09T17:00:18.688914Z",
     "iopub.status.busy": "2023-05-09T17:00:18.688503Z",
     "iopub.status.idle": "2023-05-09T17:00:20.235714Z",
     "shell.execute_reply": "2023-05-09T17:00:20.234399Z"
    },
    "papermill": {
     "duration": 1.568614,
     "end_time": "2023-05-09T17:00:20.238325",
     "exception": false,
     "start_time": "2023-05-09T17:00:18.669711",
     "status": "completed"
    },
    "tags": []
   },
   "outputs": [],
   "source": [
    "inputs = pad_sequences(\n",
    "    inputs,\n",
    "    maxlen=ENCODER_LEN,\n",
    "    padding='post',\n",
    "    truncating='post'\n",
    ")\n",
    "\n",
    "targets = pad_sequences(\n",
    "    targets,\n",
    "    maxlen=DECODER_LEN,\n",
    "    padding='post',\n",
    "    truncating='post'\n",
    ")\n",
    "inputs = tf.cast(inputs, dtype=tf.int64)\n",
    "targets = tf.cast(targets, dtype=tf.int64)"
   ]
  },
  {
   "cell_type": "code",
   "execution_count": 17,
   "id": "9d8327ac",
   "metadata": {
    "ExecuteTime": {
     "end_time": "2023-05-09T23:42:55.977317Z",
     "start_time": "2023-05-09T23:42:55.965697Z"
    },
    "execution": {
     "iopub.execute_input": "2023-05-09T17:00:20.274796Z",
     "iopub.status.busy": "2023-05-09T17:00:20.274381Z",
     "iopub.status.idle": "2023-05-09T17:00:20.298562Z",
     "shell.execute_reply": "2023-05-09T17:00:20.297329Z"
    },
    "papermill": {
     "duration": 0.04551,
     "end_time": "2023-05-09T17:00:20.301062",
     "exception": false,
     "start_time": "2023-05-09T17:00:20.255552",
     "status": "completed"
    },
    "tags": []
   },
   "outputs": [],
   "source": [
    "dataset = tf.data.Dataset.from_tensor_slices((inputs, targets)).shuffle(BUFFER_SIZE).batch(BATCH_SIZE)"
   ]
  },
  {
   "cell_type": "markdown",
   "id": "fec66e8d",
   "metadata": {
    "papermill": {
     "duration": 0.016811,
     "end_time": "2023-05-09T17:00:20.336055",
     "exception": false,
     "start_time": "2023-05-09T17:00:20.319244",
     "status": "completed"
    },
    "tags": []
   },
   "source": [
    "## Các thành phần của Transformer"
   ]
  },
  {
   "cell_type": "code",
   "execution_count": 18,
   "id": "66d73e72",
   "metadata": {
    "ExecuteTime": {
     "end_time": "2023-05-09T23:42:56.002136Z",
     "start_time": "2023-05-09T23:42:55.985321Z"
    },
    "collapsed": false,
    "execution": {
     "iopub.execute_input": "2023-05-09T17:00:20.371909Z",
     "iopub.status.busy": "2023-05-09T17:00:20.371516Z",
     "iopub.status.idle": "2023-05-09T17:00:20.379465Z",
     "shell.execute_reply": "2023-05-09T17:00:20.378359Z"
    },
    "jupyter": {
     "outputs_hidden": false
    },
    "papermill": {
     "duration": 0.028355,
     "end_time": "2023-05-09T17:00:20.381610",
     "exception": false,
     "start_time": "2023-05-09T17:00:20.353255",
     "status": "completed"
    },
    "tags": []
   },
   "outputs": [],
   "source": [
    "# Hàm tính góc cho vào positional i, d_model là số chiều của vector\n",
    "# Là tính góc cho các sin, cos của các từ cho dễ tính toán\n",
    "def get_angles(position, i, d_model):\n",
    "    angle_rates = 1 / np.power(10000, (2 * (i // 2)) / np.float32(d_model))\n",
    "    return position * angle_rates\n",
    "\n",
    "\n",
    "def positional_encoding(position, d_model):\n",
    "    # tính góc cho các từ\n",
    "    angle_rads = get_angles(\n",
    "        np.arange(position)[:, np.newaxis],\n",
    "        np.arange(d_model)[np.newaxis, :],\n",
    "        d_model\n",
    "    )\n",
    "\n",
    "    # tính sin cho các từ ở vị trí chẵn\n",
    "    angle_rads[:, 0::2] = np.sin(angle_rads[:, 0::2])\n",
    "\n",
    "    # tính cos cho các từ ở vị trí lẻ\n",
    "    angle_rads[:, 1::2] = np.cos(angle_rads[:, 1::2])\n",
    "\n",
    "    pos_encoding = angle_rads[np.newaxis, ...]\n",
    "\n",
    "\n",
    "    return tf.cast(pos_encoding, dtype=tf.float32)"
   ]
  },
  {
   "cell_type": "code",
   "execution_count": 19,
   "id": "b380ab0a",
   "metadata": {
    "ExecuteTime": {
     "end_time": "2023-05-09T23:42:56.009247Z",
     "start_time": "2023-05-09T23:42:55.994349Z"
    },
    "collapsed": false,
    "execution": {
     "iopub.execute_input": "2023-05-09T17:00:20.417679Z",
     "iopub.status.busy": "2023-05-09T17:00:20.417250Z",
     "iopub.status.idle": "2023-05-09T17:00:20.423193Z",
     "shell.execute_reply": "2023-05-09T17:00:20.421882Z"
    },
    "jupyter": {
     "outputs_hidden": false
    },
    "papermill": {
     "duration": 0.026971,
     "end_time": "2023-05-09T17:00:20.425637",
     "exception": false,
     "start_time": "2023-05-09T17:00:20.398666",
     "status": "completed"
    },
    "tags": []
   },
   "outputs": [],
   "source": [
    "def create_padding_mask(seq):\n",
    "    seq = tf.cast(tf.math.equal(seq, 0), tf.float32)\n",
    "    return seq[:, tf.newaxis, tf.newaxis, :]"
   ]
  },
  {
   "cell_type": "code",
   "execution_count": 20,
   "id": "7cfbe010",
   "metadata": {
    "ExecuteTime": {
     "end_time": "2023-05-09T23:42:56.023792Z",
     "start_time": "2023-05-09T23:42:56.011793Z"
    },
    "collapsed": false,
    "execution": {
     "iopub.execute_input": "2023-05-09T17:00:20.462411Z",
     "iopub.status.busy": "2023-05-09T17:00:20.461991Z",
     "iopub.status.idle": "2023-05-09T17:00:20.467201Z",
     "shell.execute_reply": "2023-05-09T17:00:20.466027Z"
    },
    "jupyter": {
     "outputs_hidden": false
    },
    "papermill": {
     "duration": 0.026411,
     "end_time": "2023-05-09T17:00:20.469383",
     "exception": false,
     "start_time": "2023-05-09T17:00:20.442972",
     "status": "completed"
    },
    "tags": []
   },
   "outputs": [],
   "source": [
    "def create_look_ahead_mask(size):\n",
    "    mask = 1 - tf.linalg.band_part(tf.ones((size, size)), -1, 0)\n",
    "    return mask"
   ]
  },
  {
   "cell_type": "code",
   "execution_count": 21,
   "id": "9f853f94",
   "metadata": {
    "ExecuteTime": {
     "end_time": "2023-05-09T23:42:56.051583Z",
     "start_time": "2023-05-09T23:42:56.027793Z"
    },
    "collapsed": false,
    "execution": {
     "iopub.execute_input": "2023-05-09T17:00:20.507084Z",
     "iopub.status.busy": "2023-05-09T17:00:20.506678Z",
     "iopub.status.idle": "2023-05-09T17:00:20.513392Z",
     "shell.execute_reply": "2023-05-09T17:00:20.512197Z"
    },
    "jupyter": {
     "outputs_hidden": false
    },
    "papermill": {
     "duration": 0.028529,
     "end_time": "2023-05-09T17:00:20.515844",
     "exception": false,
     "start_time": "2023-05-09T17:00:20.487315",
     "status": "completed"
    },
    "tags": []
   },
   "outputs": [],
   "source": [
    "def scaled_dot_product_attention(q, k, v, mask):\n",
    "    matmul_qk = tf.matmul(q, k, transpose_b=True)\n",
    "\n",
    "    dk = tf.cast(tf.shape(k)[-1], tf.float32)\n",
    "    scaled_attention_logits = matmul_qk / tf.math.sqrt(dk)\n",
    "\n",
    "    if mask is not None:\n",
    "        scaled_attention_logits += (mask * -1e9)\n",
    "\n",
    "    attention_weights = tf.nn.softmax(scaled_attention_logits, axis=-1)\n",
    "\n",
    "    output = tf.matmul(attention_weights, v)\n",
    "    return output, attention_weights"
   ]
  },
  {
   "cell_type": "markdown",
   "id": "a6bf4367",
   "metadata": {
    "papermill": {
     "duration": 0.017487,
     "end_time": "2023-05-09T17:00:20.551318",
     "exception": false,
     "start_time": "2023-05-09T17:00:20.533831",
     "status": "completed"
    },
    "tags": []
   },
   "source": [
    "### Multi head Attention"
   ]
  },
  {
   "cell_type": "code",
   "execution_count": 22,
   "id": "7b94fe5a",
   "metadata": {
    "ExecuteTime": {
     "end_time": "2023-05-09T23:42:56.056560Z",
     "start_time": "2023-05-09T23:42:56.048055Z"
    },
    "collapsed": false,
    "execution": {
     "iopub.execute_input": "2023-05-09T17:00:20.588979Z",
     "iopub.status.busy": "2023-05-09T17:00:20.588568Z",
     "iopub.status.idle": "2023-05-09T17:00:20.601412Z",
     "shell.execute_reply": "2023-05-09T17:00:20.600055Z"
    },
    "jupyter": {
     "outputs_hidden": false
    },
    "papermill": {
     "duration": 0.035476,
     "end_time": "2023-05-09T17:00:20.604509",
     "exception": false,
     "start_time": "2023-05-09T17:00:20.569033",
     "status": "completed"
    },
    "tags": []
   },
   "outputs": [],
   "source": [
    "class MultiHeadAttention(tf.keras.layers.Layer):\n",
    "    def __init__(self, d_model, num_heads): # Khởi tạo một multi-head attention\n",
    "        super(MultiHeadAttention, self).__init__()\n",
    "        self.num_heads = num_heads\n",
    "        self.d_model = d_model\n",
    "\n",
    "        assert d_model % self.num_heads == 0\n",
    "\n",
    "        self.depth = d_model // self.num_heads\n",
    "\n",
    "        self.wq = tf.keras.layers.Dense(d_model)\n",
    "        self.wk = tf.keras.layers.Dense(d_model)\n",
    "        self.wv = tf.keras.layers.Dense(d_model)\n",
    "\n",
    "        self.dense = tf.keras.layers.Dense(d_model)\n",
    "\n",
    "    def split_heads(self, x, batch_size):\n",
    "        x = tf.reshape(x, (batch_size, -1, self.num_heads, self.depth))\n",
    "        return tf.transpose(x, perm=[0, 2, 1, 3])\n",
    "\n",
    "    def call(self, v, k, q, mask):\n",
    "        batch_size = tf.shape(q)[0]\n",
    "\n",
    "        q = self.wq(q)\n",
    "        k = self.wk(k)\n",
    "        v = self.wv(v)\n",
    "\n",
    "        q = self.split_heads(q, batch_size)\n",
    "        k = self.split_heads(k, batch_size)\n",
    "        v = self.split_heads(v, batch_size)\n",
    "\n",
    "        scaled_attention, attention_weights = scaled_dot_product_attention(\n",
    "            q, k, v, mask)\n",
    "\n",
    "        scaled_attention = tf.transpose(scaled_attention, perm=[0, 2, 1, 3])\n",
    "\n",
    "        concat_attention = tf.reshape(scaled_attention, (batch_size, -1, self.d_model))\n",
    "        output = self.dense(concat_attention)\n",
    "\n",
    "        return output, attention_weights"
   ]
  },
  {
   "cell_type": "code",
   "execution_count": 23,
   "id": "ca70b305",
   "metadata": {
    "ExecuteTime": {
     "end_time": "2023-05-09T23:42:56.071411Z",
     "start_time": "2023-05-09T23:42:56.058559Z"
    },
    "collapsed": false,
    "execution": {
     "iopub.execute_input": "2023-05-09T17:00:20.642725Z",
     "iopub.status.busy": "2023-05-09T17:00:20.642348Z",
     "iopub.status.idle": "2023-05-09T17:00:20.648141Z",
     "shell.execute_reply": "2023-05-09T17:00:20.646776Z"
    },
    "jupyter": {
     "outputs_hidden": false
    },
    "papermill": {
     "duration": 0.027434,
     "end_time": "2023-05-09T17:00:20.650378",
     "exception": false,
     "start_time": "2023-05-09T17:00:20.622944",
     "status": "completed"
    },
    "tags": []
   },
   "outputs": [],
   "source": [
    "def point_wise_feed_forward_network(d_model, dff):\n",
    "    return tf.keras.Sequential([\n",
    "        tf.keras.layers.Dense(dff, activation='relu'),\n",
    "        tf.keras.layers.Dense(d_model)\n",
    "    ])"
   ]
  },
  {
   "cell_type": "markdown",
   "id": "ee6c4506",
   "metadata": {
    "papermill": {
     "duration": 0.017026,
     "end_time": "2023-05-09T17:00:20.685296",
     "exception": false,
     "start_time": "2023-05-09T17:00:20.668270",
     "status": "completed"
    },
    "tags": []
   },
   "source": [
    "### Lớp Encoder Layer"
   ]
  },
  {
   "cell_type": "code",
   "execution_count": 24,
   "id": "09ecd1a0",
   "metadata": {
    "ExecuteTime": {
     "end_time": "2023-05-09T23:42:56.106124Z",
     "start_time": "2023-05-09T23:42:56.074425Z"
    },
    "execution": {
     "iopub.execute_input": "2023-05-09T17:00:20.722974Z",
     "iopub.status.busy": "2023-05-09T17:00:20.722611Z",
     "iopub.status.idle": "2023-05-09T17:00:20.731321Z",
     "shell.execute_reply": "2023-05-09T17:00:20.730181Z"
    },
    "papermill": {
     "duration": 0.030315,
     "end_time": "2023-05-09T17:00:20.733799",
     "exception": false,
     "start_time": "2023-05-09T17:00:20.703484",
     "status": "completed"
    },
    "tags": []
   },
   "outputs": [],
   "source": [
    "class EncoderLayer(tf.keras.layers.Layer): # Lớp Encoder Layer\n",
    "    def __init__(self, d_model, num_heads, dff, rate=0.1):\n",
    "        super(EncoderLayer, self).__init__()\n",
    "\n",
    "        self.mha = MultiHeadAttention(d_model, num_heads)\n",
    "        self.ffn = point_wise_feed_forward_network(d_model, dff)\n",
    "\n",
    "        self.layernorm1 = tf.keras.layers.LayerNormalization(epsilon=1e-6)\n",
    "        self.layernorm2 = tf.keras.layers.LayerNormalization(epsilon=1e-6)\n",
    "\n",
    "        self.dropout1 = tf.keras.layers.Dropout(rate)\n",
    "        self.dropout2 = tf.keras.layers.Dropout(rate)\n",
    "\n",
    "    def call(self, x, training, mask):\n",
    "        attn_output, _ = self.mha(x, x, x, mask)\n",
    "        attn_output = self.dropout1(attn_output, training=training)\n",
    "        out1 = self.layernorm1(x + attn_output)\n",
    "\n",
    "        ffn_output = self.ffn(out1)\n",
    "        ffn_output = self.dropout2(ffn_output, training=training)\n",
    "        out2 = self.layernorm2(out1 + ffn_output)\n",
    "\n",
    "        return out2"
   ]
  },
  {
   "cell_type": "markdown",
   "id": "125d7756",
   "metadata": {
    "papermill": {
     "duration": 0.019999,
     "end_time": "2023-05-09T17:00:20.771903",
     "exception": false,
     "start_time": "2023-05-09T17:00:20.751904",
     "status": "completed"
    },
    "tags": []
   },
   "source": [
    "### Lớp Decoder Layer"
   ]
  },
  {
   "cell_type": "code",
   "execution_count": 25,
   "id": "69db9399",
   "metadata": {
    "ExecuteTime": {
     "end_time": "2023-05-09T23:42:56.106124Z",
     "start_time": "2023-05-09T23:42:56.093822Z"
    },
    "execution": {
     "iopub.execute_input": "2023-05-09T17:00:20.814429Z",
     "iopub.status.busy": "2023-05-09T17:00:20.814020Z",
     "iopub.status.idle": "2023-05-09T17:00:20.824999Z",
     "shell.execute_reply": "2023-05-09T17:00:20.824125Z"
    },
    "papermill": {
     "duration": 0.034396,
     "end_time": "2023-05-09T17:00:20.827229",
     "exception": false,
     "start_time": "2023-05-09T17:00:20.792833",
     "status": "completed"
    },
    "tags": []
   },
   "outputs": [],
   "source": [
    "class DecoderLayer(tf.keras.layers.Layer):\n",
    "    def __init__(self, d_model, num_heads, dff, rate=0.1):\n",
    "        super(DecoderLayer, self).__init__()\n",
    "\n",
    "        self.mha1 = MultiHeadAttention(d_model, num_heads)\n",
    "        self.mha2 = MultiHeadAttention(d_model, num_heads)\n",
    "\n",
    "        self.ffn = point_wise_feed_forward_network(d_model, dff)\n",
    "\n",
    "        self.layernorm1 = tf.keras.layers.LayerNormalization(epsilon=1e-6)\n",
    "        self.layernorm2 = tf.keras.layers.LayerNormalization(epsilon=1e-6)\n",
    "        self.layernorm3 = tf.keras.layers.LayerNormalization(epsilon=1e-6)\n",
    "\n",
    "        self.dropout1 = tf.keras.layers.Dropout(rate)\n",
    "        self.dropout2 = tf.keras.layers.Dropout(rate)\n",
    "        self.dropout3 = tf.keras.layers.Dropout(rate)\n",
    "\n",
    "    def call(self, x, enc_output, training, look_ahead_mask, padding_mask):\n",
    "        attn1, attn_weights_block1 = self.mha1(x, x, x, look_ahead_mask)\n",
    "        attn1 = self.dropout1(attn1, training=training)\n",
    "        out1 = self.layernorm1(attn1 + x)\n",
    "\n",
    "        attn2, attn_weights_block2 = self.mha2(enc_output, enc_output, out1, padding_mask)\n",
    "        attn2 = self.dropout2(attn2, training=training)\n",
    "        out2 = self.layernorm2(attn2 + out1)\n",
    "\n",
    "        ffn_output = self.ffn(out2)\n",
    "        ffn_output = self.dropout3(ffn_output, training=training)\n",
    "        out3 = self.layernorm3(ffn_output + out2)\n",
    "\n",
    "        return out3, attn_weights_block1, attn_weights_block2"
   ]
  },
  {
   "cell_type": "markdown",
   "id": "c5865dbe",
   "metadata": {
    "papermill": {
     "duration": 0.017248,
     "end_time": "2023-05-09T17:00:20.863218",
     "exception": false,
     "start_time": "2023-05-09T17:00:20.845970",
     "status": "completed"
    },
    "tags": []
   },
   "source": [
    "### Khối Encoder"
   ]
  },
  {
   "cell_type": "code",
   "execution_count": 26,
   "id": "0f44e200",
   "metadata": {
    "ExecuteTime": {
     "end_time": "2023-05-09T23:42:56.118765Z",
     "start_time": "2023-05-09T23:42:56.108498Z"
    },
    "collapsed": false,
    "execution": {
     "iopub.execute_input": "2023-05-09T17:00:20.901702Z",
     "iopub.status.busy": "2023-05-09T17:00:20.901324Z",
     "iopub.status.idle": "2023-05-09T17:00:20.910265Z",
     "shell.execute_reply": "2023-05-09T17:00:20.909284Z"
    },
    "jupyter": {
     "outputs_hidden": false
    },
    "papermill": {
     "duration": 0.031083,
     "end_time": "2023-05-09T17:00:20.912451",
     "exception": false,
     "start_time": "2023-05-09T17:00:20.881368",
     "status": "completed"
    },
    "tags": []
   },
   "outputs": [],
   "source": [
    "class Encoder(tf.keras.layers.Layer):\n",
    "    def __init__(self, num_layers, d_model, num_heads, dff, input_vocab_size, maximum_position_encoding, rate=0.1):\n",
    "        super(Encoder, self).__init__()\n",
    "\n",
    "        self.d_model = d_model\n",
    "        self.num_layers = num_layers\n",
    "\n",
    "        self.embedding = tf.keras.layers.Embedding(input_vocab_size, d_model)\n",
    "        self.pos_encoding = positional_encoding(maximum_position_encoding, self.d_model)\n",
    "\n",
    "        self.enc_layers = [EncoderLayer(d_model, num_heads, dff, rate) for _ in range(num_layers)]\n",
    "\n",
    "        self.dropout = tf.keras.layers.Dropout(rate)\n",
    "\n",
    "    def call(self, x, training, mask):\n",
    "        seq_len = tf.shape(x)[1]\n",
    "\n",
    "        x = self.embedding(x)\n",
    "        x *= tf.math.sqrt(tf.cast(self.d_model, tf.float32))\n",
    "        x += self.pos_encoding[:, :seq_len, :]\n",
    "\n",
    "        x = self.dropout(x, training=training)\n",
    "\n",
    "        for i in range(self.num_layers):\n",
    "            x = self.enc_layers[i](x, training, mask)\n",
    "\n",
    "        return x"
   ]
  },
  {
   "cell_type": "markdown",
   "id": "666e8271",
   "metadata": {
    "papermill": {
     "duration": 0.018119,
     "end_time": "2023-05-09T17:00:20.948764",
     "exception": false,
     "start_time": "2023-05-09T17:00:20.930645",
     "status": "completed"
    },
    "tags": []
   },
   "source": [
    "### Khối Decoder"
   ]
  },
  {
   "cell_type": "code",
   "execution_count": 27,
   "id": "cec13056",
   "metadata": {
    "ExecuteTime": {
     "end_time": "2023-05-09T23:42:56.156982Z",
     "start_time": "2023-05-09T23:42:56.124396Z"
    },
    "collapsed": false,
    "execution": {
     "iopub.execute_input": "2023-05-09T17:00:20.987327Z",
     "iopub.status.busy": "2023-05-09T17:00:20.985869Z",
     "iopub.status.idle": "2023-05-09T17:00:20.996510Z",
     "shell.execute_reply": "2023-05-09T17:00:20.995533Z"
    },
    "jupyter": {
     "outputs_hidden": false
    },
    "papermill": {
     "duration": 0.03192,
     "end_time": "2023-05-09T17:00:20.998885",
     "exception": false,
     "start_time": "2023-05-09T17:00:20.966965",
     "status": "completed"
    },
    "tags": []
   },
   "outputs": [],
   "source": [
    "class Decoder(tf.keras.layers.Layer):\n",
    "\n",
    "    def __init__(self, num_layers, d_model, num_heads, dff, target_vocab_size, maximum_position_encoding, rate=0.1):\n",
    "        super(Decoder, self).__init__()\n",
    "\n",
    "        self.d_model = d_model\n",
    "        self.num_layers = num_layers\n",
    "\n",
    "        self.embedding = tf.keras.layers.Embedding(target_vocab_size, d_model)\n",
    "        self.pos_encoding = positional_encoding(maximum_position_encoding, d_model)\n",
    "\n",
    "        self.dec_layers = [DecoderLayer(d_model, num_heads, dff, rate) for _ in range(num_layers)]\n",
    "        self.dropout = tf.keras.layers.Dropout(rate)\n",
    "\n",
    "    def call(self, x, enc_output, training, look_ahead_mask, padding_mask):\n",
    "        seq_len = tf.shape(x)[1]\n",
    "        attention_weights = {}\n",
    "\n",
    "        x = self.embedding(x)\n",
    "        x *= tf.math.sqrt(tf.cast(self.d_model, tf.float32))\n",
    "        x += self.pos_encoding[:, :seq_len, :]\n",
    "\n",
    "        x = self.dropout(x, training=training)\n",
    "\n",
    "        for i in range(self.num_layers):\n",
    "            x, block1, block2 = self.dec_layers[i](x, enc_output, training, look_ahead_mask, padding_mask)\n",
    "\n",
    "            attention_weights['decoder_layer{}_block1'.format(i + 1)] = block1\n",
    "            attention_weights['decoder_layer{}_block2'.format(i + 1)] = block2\n",
    "\n",
    "        return x, attention_weights"
   ]
  },
  {
   "cell_type": "markdown",
   "id": "f8e05d33",
   "metadata": {
    "papermill": {
     "duration": 0.017373,
     "end_time": "2023-05-09T17:00:21.033844",
     "exception": false,
     "start_time": "2023-05-09T17:00:21.016471",
     "status": "completed"
    },
    "tags": []
   },
   "source": [
    "### Mô hình Transformer"
   ]
  },
  {
   "cell_type": "markdown",
   "id": "35ea4dc1",
   "metadata": {
    "papermill": {
     "duration": 0.018178,
     "end_time": "2023-05-09T17:00:21.070627",
     "exception": false,
     "start_time": "2023-05-09T17:00:21.052449",
     "status": "completed"
    },
    "tags": []
   },
   "source": []
  },
  {
   "cell_type": "code",
   "execution_count": 28,
   "id": "3754b757",
   "metadata": {
    "ExecuteTime": {
     "end_time": "2023-05-09T23:42:56.156982Z",
     "start_time": "2023-05-09T23:42:56.138672Z"
    },
    "execution": {
     "iopub.execute_input": "2023-05-09T17:00:21.107614Z",
     "iopub.status.busy": "2023-05-09T17:00:21.106903Z",
     "iopub.status.idle": "2023-05-09T17:00:21.114981Z",
     "shell.execute_reply": "2023-05-09T17:00:21.113764Z"
    },
    "papermill": {
     "duration": 0.029171,
     "end_time": "2023-05-09T17:00:21.117402",
     "exception": false,
     "start_time": "2023-05-09T17:00:21.088231",
     "status": "completed"
    },
    "tags": []
   },
   "outputs": [],
   "source": [
    "class Transformer(tf.keras.Model):\n",
    "    def __init__(self, num_layers, d_model, num_heads, dff, input_vocab_size, target_vocab_size, pe_input, pe_target,\n",
    "                 rate=0.1):\n",
    "        super(Transformer, self).__init__()\n",
    "\n",
    "        self.encoder = Encoder(num_layers, d_model, num_heads, dff, input_vocab_size, pe_input, rate)\n",
    "\n",
    "        self.decoder = Decoder(num_layers, d_model, num_heads, dff, target_vocab_size, pe_target, rate)\n",
    "\n",
    "        self.final_layer = tf.keras.layers.Dense(target_vocab_size)\n",
    "\n",
    "    def call(self, inp, tar, training, enc_padding_mask, look_ahead_mask, dec_padding_mask):\n",
    "        enc_output = self.encoder(inp, training, enc_padding_mask)\n",
    "\n",
    "        dec_output, attention_weights = self.decoder(tar, enc_output, training, look_ahead_mask, dec_padding_mask)\n",
    "\n",
    "        final_output = self.final_layer(dec_output)\n",
    "\n",
    "        return final_output, attention_weights"
   ]
  },
  {
   "cell_type": "code",
   "execution_count": 29,
   "id": "4bbc9e2e",
   "metadata": {
    "ExecuteTime": {
     "end_time": "2023-05-09T23:42:56.164317Z",
     "start_time": "2023-05-09T23:42:56.151984Z"
    },
    "execution": {
     "iopub.execute_input": "2023-05-09T17:00:21.155408Z",
     "iopub.status.busy": "2023-05-09T17:00:21.155013Z",
     "iopub.status.idle": "2023-05-09T17:00:21.160129Z",
     "shell.execute_reply": "2023-05-09T17:00:21.158899Z"
    },
    "papermill": {
     "duration": 0.026901,
     "end_time": "2023-05-09T17:00:21.162187",
     "exception": false,
     "start_time": "2023-05-09T17:00:21.135286",
     "status": "completed"
    },
    "tags": []
   },
   "outputs": [],
   "source": [
    "num_layers = 6 # number of layers của encoder và decoder hay là số khối encoder và decoder\n",
    "d_model = 128 # Dim của vector đầu ra của mỗi layer trong encoder và decoder\n",
    "dff = 512 # Dim của feed forward network\n",
    "num_heads = 4 # Số head trong multi-head attention\n",
    "dropout_rate = 0.15 # Tỷ lệ dropout\n",
    "EPOCHS = 40 # Số epoch"
   ]
  },
  {
   "cell_type": "markdown",
   "id": "08353918",
   "metadata": {
    "papermill": {
     "duration": 0.017359,
     "end_time": "2023-05-09T17:00:21.198693",
     "exception": false,
     "start_time": "2023-05-09T17:00:21.181334",
     "status": "completed"
    },
    "tags": []
   },
   "source": [
    "### Set up the optimizer"
   ]
  },
  {
   "cell_type": "markdown",
   "id": "cdf91957",
   "metadata": {
    "papermill": {
     "duration": 0.018616,
     "end_time": "2023-05-09T17:00:21.235775",
     "exception": false,
     "start_time": "2023-05-09T17:00:21.217159",
     "status": "completed"
    },
    "tags": []
   },
   "source": [
    "Learning rate được tính theo công thức sau:\n",
    "$lrate = d_{model}^{-0.5} * min(\\text{step_num}^{-0.5}, \\text{step_num}.\\text{warmup_step}^{-1.5}) $"
   ]
  },
  {
   "cell_type": "code",
   "execution_count": 30,
   "id": "d55a771a",
   "metadata": {
    "ExecuteTime": {
     "end_time": "2023-05-09T23:42:56.195931Z",
     "start_time": "2023-05-09T23:42:56.168827Z"
    },
    "execution": {
     "iopub.execute_input": "2023-05-09T17:00:21.275374Z",
     "iopub.status.busy": "2023-05-09T17:00:21.274344Z",
     "iopub.status.idle": "2023-05-09T17:00:21.281270Z",
     "shell.execute_reply": "2023-05-09T17:00:21.280341Z"
    },
    "papermill": {
     "duration": 0.028976,
     "end_time": "2023-05-09T17:00:21.283780",
     "exception": false,
     "start_time": "2023-05-09T17:00:21.254804",
     "status": "completed"
    },
    "tags": []
   },
   "outputs": [],
   "source": [
    "class CustomSchedule(tf.keras.optimizers.schedules.LearningRateSchedule):\n",
    "    def __init__(self, d_model, warmup_steps=4000):\n",
    "        super(CustomSchedule, self).__init__()\n",
    "\n",
    "        self.d_model = d_model\n",
    "        self.d_model = tf.cast(self.d_model, tf.float32)\n",
    "\n",
    "        self.warmup_steps = warmup_steps\n",
    "\n",
    "    def __call__(self, step):\n",
    "        arg1 = tf.math.rsqrt(step)\n",
    "        arg2 = step * (self.warmup_steps ** -1.5)\n",
    "\n",
    "        return tf.math.rsqrt(self.d_model) * tf.math.minimum(arg1, arg2)"
   ]
  },
  {
   "cell_type": "markdown",
   "id": "919d0819",
   "metadata": {
    "papermill": {
     "duration": 0.017479,
     "end_time": "2023-05-09T17:00:21.319059",
     "exception": false,
     "start_time": "2023-05-09T17:00:21.301580",
     "status": "completed"
    },
    "tags": []
   },
   "source": [
    "### Sử dụng Adam optimizer với custom learning rate"
   ]
  },
  {
   "cell_type": "code",
   "execution_count": 31,
   "id": "c48b9b8b",
   "metadata": {
    "ExecuteTime": {
     "end_time": "2023-05-09T23:42:56.196939Z",
     "start_time": "2023-05-09T23:42:56.183469Z"
    },
    "execution": {
     "iopub.execute_input": "2023-05-09T17:00:21.356660Z",
     "iopub.status.busy": "2023-05-09T17:00:21.356045Z",
     "iopub.status.idle": "2023-05-09T17:00:21.363009Z",
     "shell.execute_reply": "2023-05-09T17:00:21.362156Z"
    },
    "papermill": {
     "duration": 0.028514,
     "end_time": "2023-05-09T17:00:21.365359",
     "exception": false,
     "start_time": "2023-05-09T17:00:21.336845",
     "status": "completed"
    },
    "tags": []
   },
   "outputs": [],
   "source": [
    "temp_learning_rate_schedule = CustomSchedule(d_model)\n",
    "learning_rate = CustomSchedule(d_model)\n",
    "optimizer = Adam(learning_rate, beta_1=0.9, beta_2=0.98, epsilon=1e-9)"
   ]
  },
  {
   "cell_type": "code",
   "execution_count": 32,
   "id": "ffa893a0",
   "metadata": {
    "ExecuteTime": {
     "end_time": "2023-05-09T23:42:56.397864Z",
     "start_time": "2023-05-09T23:42:56.199938Z"
    },
    "execution": {
     "iopub.execute_input": "2023-05-09T17:00:21.404506Z",
     "iopub.status.busy": "2023-05-09T17:00:21.403871Z",
     "iopub.status.idle": "2023-05-09T17:00:21.759951Z",
     "shell.execute_reply": "2023-05-09T17:00:21.758703Z"
    },
    "papermill": {
     "duration": 0.378992,
     "end_time": "2023-05-09T17:00:21.763032",
     "exception": false,
     "start_time": "2023-05-09T17:00:21.384040",
     "status": "completed"
    },
    "tags": []
   },
   "outputs": [
    {
     "data": {
      "text/plain": [
       "Text(0.5, 0, 'Train Step')"
      ]
     },
     "execution_count": 32,
     "metadata": {},
     "output_type": "execute_result"
    },
    {
     "data": {
      "image/png": "[encoded data removed]",
      "text/plain": [
       "<Figure size 640x480 with 1 Axes>"
      ]
     },
     "metadata": {},
     "output_type": "display_data"
    }
   ],
   "source": [
    "plt.plot(temp_learning_rate_schedule(tf.range(40000, dtype=tf.float32)))\n",
    "plt.ylabel(\"Learning Rate\")\n",
    "plt.xlabel(\"Train Step\")"
   ]
  },
  {
   "cell_type": "markdown",
   "id": "6554d6f6",
   "metadata": {
    "papermill": {
     "duration": 0.01929,
     "end_time": "2023-05-09T17:00:21.802590",
     "exception": false,
     "start_time": "2023-05-09T17:00:21.783300",
     "status": "completed"
    },
    "tags": []
   },
   "source": [
    "## Loss and metrics"
   ]
  },
  {
   "cell_type": "code",
   "execution_count": 33,
   "id": "a63817c4",
   "metadata": {
    "ExecuteTime": {
     "end_time": "2023-05-09T23:42:56.464346Z",
     "start_time": "2023-05-09T23:42:56.403864Z"
    },
    "execution": {
     "iopub.execute_input": "2023-05-09T17:00:21.843476Z",
     "iopub.status.busy": "2023-05-09T17:00:21.843053Z",
     "iopub.status.idle": "2023-05-09T17:00:21.850838Z",
     "shell.execute_reply": "2023-05-09T17:00:21.849630Z"
    },
    "papermill": {
     "duration": 0.030439,
     "end_time": "2023-05-09T17:00:21.853217",
     "exception": false,
     "start_time": "2023-05-09T17:00:21.822778",
     "status": "completed"
    },
    "tags": []
   },
   "outputs": [],
   "source": [
    "loss_object = SparseCategoricalCrossentropy(from_logits=True, reduction='none')\n",
    "\n",
    "def loss_function(real, pred):\n",
    "    mask = tf.math.logical_not(tf.math.equal(real, 0))\n",
    "    loss_ = loss_object(real, pred)\n",
    "\n",
    "    mask = tf.cast(mask, dtype=loss_.dtype)\n",
    "    loss_ *= mask\n",
    "\n",
    "    return tf.reduce_sum(loss_) / tf.reduce_sum(mask)\n",
    "\n",
    "\n",
    "def accuracy_function(real, pred):\n",
    "    accuracies = tf.equal(real, tf.argmax(pred, axis=2))\n",
    "\n",
    "    mask = tf.math.logical_not(tf.math.equal(real, 0))\n",
    "    accuracies = tf.math.logical_and(mask, accuracies)\n",
    "\n",
    "    accuracies = tf.cast(accuracies, dtype=tf.float32)\n",
    "    mask = tf.cast(mask, dtype=tf.float32)\n",
    "    return tf.reduce_sum(accuracies) / tf.reduce_sum(mask)"
   ]
  },
  {
   "cell_type": "code",
   "execution_count": 34,
   "id": "53e2be98",
   "metadata": {
    "ExecuteTime": {
     "end_time": "2023-05-09T23:42:56.464346Z",
     "start_time": "2023-05-09T23:42:56.420901Z"
    },
    "execution": {
     "iopub.execute_input": "2023-05-09T17:00:21.893033Z",
     "iopub.status.busy": "2023-05-09T17:00:21.891962Z",
     "iopub.status.idle": "2023-05-09T17:00:21.923591Z",
     "shell.execute_reply": "2023-05-09T17:00:21.922378Z"
    },
    "papermill": {
     "duration": 0.05446,
     "end_time": "2023-05-09T17:00:21.926398",
     "exception": false,
     "start_time": "2023-05-09T17:00:21.871938",
     "status": "completed"
    },
    "tags": []
   },
   "outputs": [],
   "source": [
    "train_loss = Mean(name='train_loss')\n",
    "train_accuracy = Mean(name='train_accuracy')"
   ]
  },
  {
   "cell_type": "code",
   "execution_count": 35,
   "id": "edfe51a5",
   "metadata": {
    "ExecuteTime": {
     "end_time": "2023-05-09T23:42:56.629152Z",
     "start_time": "2023-05-09T23:42:56.444428Z"
    },
    "execution": {
     "iopub.execute_input": "2023-05-09T17:00:21.967483Z",
     "iopub.status.busy": "2023-05-09T17:00:21.967056Z",
     "iopub.status.idle": "2023-05-09T17:00:22.212261Z",
     "shell.execute_reply": "2023-05-09T17:00:22.210928Z"
    },
    "papermill": {
     "duration": 0.269578,
     "end_time": "2023-05-09T17:00:22.214998",
     "exception": false,
     "start_time": "2023-05-09T17:00:21.945420",
     "status": "completed"
    },
    "tags": []
   },
   "outputs": [],
   "source": [
    "transformer = Transformer(\n",
    "    num_layers=num_layers,  # Số lớp trong mạng Transformer\n",
    "    d_model=d_model,  # Kích thước vecror đầu ra\n",
    "    num_heads=num_heads,  # Số lượng head trong mỗi encoder/decoder layer\n",
    "    dff=dff,  # Kích thước của fully connected layer\n",
    "    input_vocab_size=ENCODER_VOCAB,  # Số lượng từ trong từ điển đầu vào\n",
    "    target_vocab_size=DECODER_VOCAB,  # Số lượng từ trong từ điển đầu ra\n",
    "    pe_input=1000,  # Số lượng từ tối đa trong câu đầu vào\n",
    "    pe_target=1000,  # Số lượng từ tối đa trong câu đầu ra\n",
    "    rate=dropout_rate  # Tỷ lệ dropout\n",
    ")"
   ]
  },
  {
   "cell_type": "code",
   "execution_count": 36,
   "id": "17709579",
   "metadata": {
    "ExecuteTime": {
     "end_time": "2023-05-09T23:42:56.644331Z",
     "start_time": "2023-05-09T23:42:56.631666Z"
    },
    "execution": {
     "iopub.execute_input": "2023-05-09T17:00:22.261184Z",
     "iopub.status.busy": "2023-05-09T17:00:22.260726Z",
     "iopub.status.idle": "2023-05-09T17:00:22.268768Z",
     "shell.execute_reply": "2023-05-09T17:00:22.267400Z"
    },
    "papermill": {
     "duration": 0.032888,
     "end_time": "2023-05-09T17:00:22.271410",
     "exception": false,
     "start_time": "2023-05-09T17:00:22.238522",
     "status": "completed"
    },
    "tags": []
   },
   "outputs": [],
   "source": [
    "def create_masks(inp, tar):\n",
    "    enc_padding_mask = create_padding_mask(inp)  # Encoder padding mask\n",
    "    dec_padding_mask = create_padding_mask(inp)  # Decoder padding mask\n",
    "\n",
    "    look_ahead_mask = create_look_ahead_mask(tf.shape(tar)[1])  # Decoder look ahead mask\n",
    "    dec_target_padding_mask = create_padding_mask(tar)  # Decoder target padding mask\n",
    "    combined_mask = tf.maximum(dec_target_padding_mask, look_ahead_mask)  # Cộng hai mask lại với nhau\n",
    "\n",
    "    return enc_padding_mask, combined_mask, dec_padding_mask  # Trả về các mask"
   ]
  },
  {
   "cell_type": "markdown",
   "id": "b5273b4b",
   "metadata": {
    "papermill": {
     "duration": 0.019668,
     "end_time": "2023-05-09T17:00:22.311929",
     "exception": false,
     "start_time": "2023-05-09T17:00:22.292261",
     "status": "completed"
    },
    "tags": []
   },
   "source": [
    "Sử dụng checkpoint manager để lưu lại trạng thái của mô hình sau các epoch"
   ]
  },
  {
   "cell_type": "code",
   "execution_count": 37,
   "id": "3ab22bb9",
   "metadata": {
    "ExecuteTime": {
     "end_time": "2023-05-09T23:42:56.674591Z",
     "start_time": "2023-05-09T23:42:56.646338Z"
    },
    "execution": {
     "iopub.execute_input": "2023-05-09T17:00:22.353817Z",
     "iopub.status.busy": "2023-05-09T17:00:22.353360Z",
     "iopub.status.idle": "2023-05-09T17:00:22.416804Z",
     "shell.execute_reply": "2023-05-09T17:00:22.415078Z"
    },
    "papermill": {
     "duration": 0.088479,
     "end_time": "2023-05-09T17:00:22.420013",
     "exception": false,
     "start_time": "2023-05-09T17:00:22.331534",
     "status": "completed"
    },
    "tags": []
   },
   "outputs": [
    {
     "name": "stdout",
     "output_type": "stream",
     "text": [
      "Đã load checkpoint\n"
     ]
    }
   ],
   "source": [
    "checkpoint_path = \"checkpoints\"  # Đường dẫn lưu checkpoint\n",
    "check_point_exists = False  # Biến kiểm tra checkpoint đã tồn tại hay chưa\n",
    "\n",
    "ckpt = tf.train.Checkpoint(\n",
    "    transformer=transformer,\n",
    "    optimizer=optimizer\n",
    ")  # Tạo checkpoint\n",
    "\n",
    "ckpt_manager = tf.train.CheckpointManager(\n",
    "    ckpt,\n",
    "    checkpoint_path,\n",
    "    max_to_keep=5 # Số lượng checkpoint lớn nhất được lưu lại\n",
    ")  # Tạo checkpoint manager\n",
    "\n",
    "if ckpt_manager.latest_checkpoint:  # Nếu trong thư mục có checkpoint\n",
    "    ckpt.restore(ckpt_manager.latest_checkpoint)  # Restore checkpoint mới nhất\n",
    "    check_point_exists = True\n",
    "    print(\"Đã load checkpoint\")  # In ra đã restore checkpoint"
   ]
  },
  {
   "cell_type": "code",
   "execution_count": 38,
   "id": "c739b267",
   "metadata": {
    "ExecuteTime": {
     "end_time": "2023-05-09T23:42:56.690214Z",
     "start_time": "2023-05-09T23:42:56.678429Z"
    },
    "execution": {
     "iopub.execute_input": "2023-05-09T17:00:22.463885Z",
     "iopub.status.busy": "2023-05-09T17:00:22.462755Z",
     "iopub.status.idle": "2023-05-09T17:00:22.471911Z",
     "shell.execute_reply": "2023-05-09T17:00:22.470589Z"
    },
    "papermill": {
     "duration": 0.03399,
     "end_time": "2023-05-09T17:00:22.474619",
     "exception": false,
     "start_time": "2023-05-09T17:00:22.440629",
     "status": "completed"
    },
    "tags": []
   },
   "outputs": [],
   "source": [
    "@tf.function  # Tạo graph để tăng tốc độ\n",
    "def train_step(inp, tar):  # Hàm train mô hình\n",
    "    tar_inp = tar[:, :-1]  # Tạo input cho decoder bằng cách lấy tất cả các từ trong câu trừ từ cuối cùng\n",
    "    tar_real = tar[:, 1:]  # Tạo ouput cho decoder bằng cách lấy tất cả các từ trong câu trừ từ đầu tiên\n",
    "\n",
    "    enc_padding_mask, combined_mask, dec_padding_mask = create_masks(inp, tar_inp)  # Tạo các mask\n",
    "\n",
    "    with tf.GradientTape() as tape:  # Tạo gradient\n",
    "        predictions, _ = transformer(\n",
    "            inp, tar_inp,\n",
    "            True,\n",
    "            enc_padding_mask,\n",
    "            combined_mask,\n",
    "            dec_padding_mask\n",
    "        )\n",
    "        loss = loss_function(tar_real, predictions)  # Tính loss\n",
    "\n",
    "    gradients = tape.gradient(loss, transformer.trainable_variables)  #   Tính gradient\n",
    "    optimizer.apply_gradients(zip(gradients, transformer.trainable_variables))  # Cập nhật trọng số mạng\n",
    "\n",
    "    train_loss(loss)  # Cập nhật loss\n",
    "    train_accuracy(accuracy_function(tar_real, predictions))  # Cập nhật accuracy"
   ]
  },
  {
   "cell_type": "markdown",
   "id": "47b3cb6d",
   "metadata": {
    "papermill": {
     "duration": 0.019195,
     "end_time": "2023-05-09T17:00:22.514995",
     "exception": false,
     "start_time": "2023-05-09T17:00:22.495800",
     "status": "completed"
    },
    "tags": []
   },
   "source": [
    "# Training the Model"
   ]
  },
  {
   "cell_type": "code",
   "execution_count": 39,
   "id": "af5b9df4",
   "metadata": {
    "ExecuteTime": {
     "end_time": "2023-05-09T23:42:56.735506Z",
     "start_time": "2023-05-09T23:42:56.692228Z"
    },
    "collapsed": false,
    "execution": {
     "iopub.execute_input": "2023-05-09T17:00:22.556318Z",
     "iopub.status.busy": "2023-05-09T17:00:22.555502Z",
     "iopub.status.idle": "2023-05-09T17:00:22.560578Z",
     "shell.execute_reply": "2023-05-09T17:00:22.559487Z"
    },
    "jupyter": {
     "outputs_hidden": false
    },
    "papermill": {
     "duration": 0.02887,
     "end_time": "2023-05-09T17:00:22.563422",
     "exception": false,
     "start_time": "2023-05-09T17:00:22.534552",
     "status": "completed"
    },
    "tags": []
   },
   "outputs": [],
   "source": [
    "# Ở đây tôi muốn nếu có checkpoint rồi thì chỉ cần sửa và không train thêm nữa\n",
    "if check_point_exists:  # Nếu chưa có checkpoint\n",
    "    EPOCHS = 0  # Số epoch /Nếu muốn train tiếp tục thì gán giá trị cho biến này"
   ]
  },
  {
   "cell_type": "code",
   "execution_count": 40,
   "id": "fb210929",
   "metadata": {
    "ExecuteTime": {
     "end_time": "2023-05-09T23:42:56.740854Z",
     "start_time": "2023-05-09T23:42:56.711902Z"
    },
    "collapsed": false,
    "execution": {
     "iopub.execute_input": "2023-05-09T17:00:22.604996Z",
     "iopub.status.busy": "2023-05-09T17:00:22.604581Z",
     "iopub.status.idle": "2023-05-09T17:00:22.613055Z",
     "shell.execute_reply": "2023-05-09T17:00:22.611920Z"
    },
    "jupyter": {
     "outputs_hidden": false
    },
    "papermill": {
     "duration": 0.032194,
     "end_time": "2023-05-09T17:00:22.615632",
     "exception": false,
     "start_time": "2023-05-09T17:00:22.583438",
     "status": "completed"
    },
    "tags": []
   },
   "outputs": [],
   "source": [
    "for epoch in range(EPOCHS):\n",
    "    start = time.time()  # Lấy thời gian bắt đầu train\n",
    "\n",
    "    train_loss.reset_states()  # Reset loss\n",
    "\n",
    "    for (batch, (inp, tar)) in enumerate(dataset):  # Lặp qua các batch dữ liệu\n",
    "        train_step(inp, tar)  # Train mô hình\n",
    "\n",
    "        if batch % 100 == 0:  # In loss và accuracy sau mỗi 100 batch\n",
    "            # In loss và accuracy\n",
    "            print(f'Epoch {epoch + 1} Batch {batch} Loss {train_loss.result():.4f} Accuracy {train_accuracy.result():.4f}')\n",
    "\n",
    "    if (epoch + 1) % 5 == 0:  # Lưu checkpoint sau mỗi 5 epoch\n",
    "        ckpt_save_path = ckpt_manager.save()  # Lưu checkpoint\n",
    "        # In ra đã lưu checkpoint\n",
    "        print(f'Saving checkpoint for epoch {epoch + 1} at {ckpt_save_path}')\n",
    "\n",
    "        #--------------------------------------------------------\n",
    "        # Lưu checkpoints as zip very 5 epoch\n",
    "    #         import zipfile\n",
    "    #         import os\n",
    "\n",
    "    #         # Đường dẫn đến thư mục cần nén lại\n",
    "    #         folder_path = '/kaggle/working/checkpoints'\n",
    "\n",
    "    #         # Đường dẫn đến tệp tin nén zip\n",
    "    #         zip_path = 'zipfile_full_' + str(epoch + 1) + '.zip'\n",
    "\n",
    "    #         # Tạo một tệp tin zip mới\n",
    "    #         with zipfile.ZipFile(zip_path, 'w', zipfile.ZIP_DEFLATED) as zipf:\n",
    "    #             # Đệ quy lấy tất cả các tệp tin và thư mục trong thư mục cần nén lại\n",
    "    #             for root, dirs, files in os.walk(folder_path):\n",
    "    #                 for file in files:\n",
    "    #                     file_path = os.path.join(root, file)\n",
    "    #                     # Thêm tệp tin vào tệp tin zip\n",
    "    #                     zipf.write(file_path)\n",
    "    #----------------------------------------------------------\n",
    "      # In loss và accuracy sau mỗi epoch\n",
    "    print(f'Epoch {epoch + 1} Loss {train_loss.result():.4f} Accuracy {train_accuracy.result():.4f}')\n",
    "    # In ra thời gian train mỗi epoch\n",
    "    print(f'Time taken for 1 epoch: {time.time() - start:.2f} secs\\n')"
   ]
  },
  {
   "cell_type": "markdown",
   "id": "6b95f4da",
   "metadata": {
    "papermill": {
     "duration": 0.019169,
     "end_time": "2023-05-09T17:00:22.654694",
     "exception": false,
     "start_time": "2023-05-09T17:00:22.635525",
     "status": "completed"
    },
    "tags": []
   },
   "source": [
    "### Calculate"
   ]
  },
  {
   "cell_type": "code",
   "execution_count": 41,
   "id": "d1807c6c",
   "metadata": {
    "ExecuteTime": {
     "end_time": "2023-05-09T23:42:56.740854Z",
     "start_time": "2023-05-09T23:42:56.725692Z"
    },
    "execution": {
     "iopub.execute_input": "2023-05-09T17:00:22.695820Z",
     "iopub.status.busy": "2023-05-09T17:00:22.695400Z",
     "iopub.status.idle": "2023-05-09T17:00:22.704158Z",
     "shell.execute_reply": "2023-05-09T17:00:22.702961Z"
    },
    "papermill": {
     "duration": 0.031509,
     "end_time": "2023-05-09T17:00:22.706474",
     "exception": false,
     "start_time": "2023-05-09T17:00:22.674965",
     "status": "completed"
    },
    "tags": []
   },
   "outputs": [],
   "source": [
    "def calculate(input_english):\n",
    "    input_english = english_tokenizer.texts_to_sequences([input_english])\n",
    "    input_english = pad_sequences(input_english,\n",
    "                                  maxlen=ENCODER_LEN,\n",
    "                                  padding='post',\n",
    "                                  truncating='post')\n",
    "\n",
    "    encoder_input = tf.expand_dims(input_english[0], 0)\n",
    "\n",
    "    decoder_input = [vietnamese_tokenizer.word_index['<S>']]\n",
    "    output = tf.expand_dims(decoder_input, 0)\n",
    "\n",
    "    for i in range(DECODER_LEN):\n",
    "        enc_padding_mask, combined_mask, dec_padding_mask = create_masks(encoder_input, output)\n",
    "\n",
    "        predictions, attention_weights = transformer(\n",
    "            encoder_input,\n",
    "            output,\n",
    "            False,\n",
    "            enc_padding_mask,\n",
    "            combined_mask,\n",
    "            dec_padding_mask\n",
    "        )\n",
    "\n",
    "        predictions = predictions[:, -1:, :]\n",
    "        predicted_id = tf.cast(tf.argmax(predictions, axis=-1), tf.int32)\n",
    "\n",
    "        if predicted_id == vietnamese_tokenizer.word_index['</S>']:\n",
    "            return tf.squeeze(output, axis=0)\n",
    "\n",
    "        output = tf.concat([output, predicted_id], axis=-1)\n",
    "\n",
    "    return tf.squeeze(output, axis=0)"
   ]
  },
  {
   "cell_type": "code",
   "execution_count": 42,
   "id": "0d51e405",
   "metadata": {
    "ExecuteTime": {
     "end_time": "2023-05-09T23:42:56.755092Z",
     "start_time": "2023-05-09T23:42:56.739505Z"
    },
    "execution": {
     "iopub.execute_input": "2023-05-09T17:00:22.748445Z",
     "iopub.status.busy": "2023-05-09T17:00:22.748009Z",
     "iopub.status.idle": "2023-05-09T17:00:22.754451Z",
     "shell.execute_reply": "2023-05-09T17:00:22.753153Z"
    },
    "papermill": {
     "duration": 0.030506,
     "end_time": "2023-05-09T17:00:22.757181",
     "exception": false,
     "start_time": "2023-05-09T17:00:22.726675",
     "status": "completed"
    },
    "tags": []
   },
   "outputs": [],
   "source": [
    "def translation(input_english):\n",
    "    vietnamese = calculate(input_english=input_english).numpy()\n",
    "    vietnamese = np.expand_dims(vietnamese[1:], 0)\n",
    "    return vietnamese_tokenizer.sequences_to_texts(vietnamese)[0]"
   ]
  },
  {
   "cell_type": "markdown",
   "id": "5a3a385e",
   "metadata": {
    "papermill": {
     "duration": 0.01893,
     "end_time": "2023-05-09T17:00:22.795825",
     "exception": false,
     "start_time": "2023-05-09T17:00:22.776895",
     "status": "completed"
    },
    "tags": []
   },
   "source": [
    "# Test"
   ]
  },
  {
   "cell_type": "code",
   "execution_count": 43,
   "id": "cd775f87",
   "metadata": {
    "ExecuteTime": {
     "end_time": "2023-05-09T23:42:59.134539Z",
     "start_time": "2023-05-09T23:42:56.755092Z"
    },
    "execution": {
     "iopub.execute_input": "2023-05-09T17:00:22.836131Z",
     "iopub.status.busy": "2023-05-09T17:00:22.835602Z",
     "iopub.status.idle": "2023-05-09T17:00:26.643248Z",
     "shell.execute_reply": "2023-05-09T17:00:26.641806Z"
    },
    "papermill": {
     "duration": 3.830677,
     "end_time": "2023-05-09T17:00:26.645475",
     "exception": false,
     "start_time": "2023-05-09T17:00:22.814798",
     "status": "completed"
    },
    "tags": []
   },
   "outputs": [
    {
     "name": "stdout",
     "output_type": "stream",
     "text": [
      "Full content is:  I thought you needed the sleep\n",
      "@@@@@@@@@@@@@@@@@@@@@@\n",
      "Sumary content is:  tôi nghĩ bạn cần ngủ\n",
      "@@@@@@@@@@@@@@@@@@@@@@\n",
      "Predict content is:  tôi nghĩ bạn cần giấc ngủ\n"
     ]
    }
   ],
   "source": [
    "en_content = test_data['en'][0]\n",
    "vi_content = test_data['vi'][0]\n",
    "predict = translation(en_content)\n",
    "print(\"Full content is: \", en_content)\n",
    "print(\"@@@@@@@@@@@@@@@@@@@@@@\")\n",
    "print(\"Sumary content is: \", vi_content)\n",
    "print(\"@@@@@@@@@@@@@@@@@@@@@@\")\n",
    "print(\"Predict content is: \", predict)"
   ]
  },
  {
   "cell_type": "code",
   "execution_count": 44,
   "id": "102b79fa",
   "metadata": {
    "ExecuteTime": {
     "end_time": "2023-05-09T23:42:59.788196Z",
     "start_time": "2023-05-09T23:42:59.138436Z"
    },
    "execution": {
     "iopub.execute_input": "2023-05-09T17:00:26.686443Z",
     "iopub.status.busy": "2023-05-09T17:00:26.686052Z",
     "iopub.status.idle": "2023-05-09T17:00:27.758302Z",
     "shell.execute_reply": "2023-05-09T17:00:27.756052Z"
    },
    "papermill": {
     "duration": 1.09584,
     "end_time": "2023-05-09T17:00:27.761211",
     "exception": false,
     "start_time": "2023-05-09T17:00:26.665371",
     "status": "completed"
    },
    "tags": []
   },
   "outputs": [
    {
     "name": "stdout",
     "output_type": "stream",
     "text": [
      "Full content is:  You will survive.\n",
      "@@@@@@@@@@@@@@@@@@@@@@\n",
      "Sumary content is:  bạn sẽ sống sót.\n",
      "@@@@@@@@@@@@@@@@@@@@@@\n",
      "Predict content is:  bạn sẽ sống sót\n"
     ]
    }
   ],
   "source": [
    "en_content = test_data['en'][1]\n",
    "vi_content = test_data['vi'][1]\n",
    "predict = translation(en_content)\n",
    "print(\"Full content is: \", en_content)\n",
    "print(\"@@@@@@@@@@@@@@@@@@@@@@\")\n",
    "print(\"Sumary content is: \", vi_content)\n",
    "print(\"@@@@@@@@@@@@@@@@@@@@@@\")\n",
    "print(\"Predict content is: \", predict)"
   ]
  },
  {
   "cell_type": "code",
   "execution_count": 45,
   "id": "0d8a70af",
   "metadata": {
    "ExecuteTime": {
     "end_time": "2023-05-09T23:43:01.566151Z",
     "start_time": "2023-05-09T23:42:59.791200Z"
    },
    "execution": {
     "iopub.execute_input": "2023-05-09T17:00:27.803275Z",
     "iopub.status.busy": "2023-05-09T17:00:27.801965Z",
     "iopub.status.idle": "2023-05-09T17:00:30.765697Z",
     "shell.execute_reply": "2023-05-09T17:00:30.764141Z"
    },
    "papermill": {
     "duration": 2.987401,
     "end_time": "2023-05-09T17:00:30.768397",
     "exception": false,
     "start_time": "2023-05-09T17:00:27.780996",
     "status": "completed"
    },
    "tags": []
   },
   "outputs": [
    {
     "name": "stdout",
     "output_type": "stream",
     "text": [
      "Full content is:  He is a doctor and also a novelist\n",
      "@@@@@@@@@@@@@@@@@@@@@@\n",
      "Sumary content is:  ông là một bác sĩ và cũng là một tiểu thuyết gia\n",
      "@@@@@@@@@@@@@@@@@@@@@@\n",
      "Predict content is:  ông là một bác sĩ và cũng là một tiểu thuyết tiểu thuyết\n"
     ]
    }
   ],
   "source": [
    "en_content = test_data['en'][2]\n",
    "vi_content = test_data['vi'][2]\n",
    "predict = translation(en_content)\n",
    "print(\"Full content is: \", en_content)\n",
    "print(\"@@@@@@@@@@@@@@@@@@@@@@\")\n",
    "print(\"Sumary content is: \", vi_content)\n",
    "print(\"@@@@@@@@@@@@@@@@@@@@@@\")\n",
    "print(\"Predict content is: \", predict)"
   ]
  },
  {
   "cell_type": "code",
   "execution_count": 46,
   "id": "e32c40ce",
   "metadata": {
    "ExecuteTime": {
     "end_time": "2023-05-09T23:43:03.165419Z",
     "start_time": "2023-05-09T23:43:01.567146Z"
    },
    "execution": {
     "iopub.execute_input": "2023-05-09T17:00:30.811552Z",
     "iopub.status.busy": "2023-05-09T17:00:30.811141Z",
     "iopub.status.idle": "2023-05-09T17:00:33.685856Z",
     "shell.execute_reply": "2023-05-09T17:00:33.683390Z"
    },
    "papermill": {
     "duration": 2.899041,
     "end_time": "2023-05-09T17:00:33.688340",
     "exception": false,
     "start_time": "2023-05-09T17:00:30.789299",
     "status": "completed"
    },
    "tags": []
   },
   "outputs": [
    {
     "name": "stdout",
     "output_type": "stream",
     "text": [
      "Full content is:  What you were taught is wrong.\n",
      "@@@@@@@@@@@@@@@@@@@@@@\n",
      "Sumary content is:  những gì bạn đã được dạy là sai.\n",
      "@@@@@@@@@@@@@@@@@@@@@@\n",
      "Predict content is:  những gì bạn đã được dạy là sai .\n"
     ]
    }
   ],
   "source": [
    "en_content = test_data['en'][3]\n",
    "vi_content = test_data['vi'][3]\n",
    "predict = translation(en_content)\n",
    "print(\"Full content is: \", en_content)\n",
    "print(\"@@@@@@@@@@@@@@@@@@@@@@\")\n",
    "print(\"Sumary content is: \", vi_content)\n",
    "print(\"@@@@@@@@@@@@@@@@@@@@@@\")\n",
    "print(\"Predict content is: \", predict)"
   ]
  },
  {
   "cell_type": "code",
   "execution_count": 47,
   "id": "3e903dbe",
   "metadata": {
    "ExecuteTime": {
     "end_time": "2023-05-09T23:43:04.597752Z",
     "start_time": "2023-05-09T23:43:03.168943Z"
    },
    "execution": {
     "iopub.execute_input": "2023-05-09T17:00:33.729217Z",
     "iopub.status.busy": "2023-05-09T17:00:33.728206Z",
     "iopub.status.idle": "2023-05-09T17:00:36.190055Z",
     "shell.execute_reply": "2023-05-09T17:00:36.188848Z"
    },
    "papermill": {
     "duration": 2.485117,
     "end_time": "2023-05-09T17:00:36.192635",
     "exception": false,
     "start_time": "2023-05-09T17:00:33.707518",
     "status": "completed"
    },
    "tags": []
   },
   "outputs": [
    {
     "name": "stdout",
     "output_type": "stream",
     "text": [
      "Full content is:  I should've known Tom would be here, too\n",
      "@@@@@@@@@@@@@@@@@@@@@@\n",
      "Sumary content is:  tôi cũng nên biết tom cũng sẽ ở đây\n",
      "@@@@@@@@@@@@@@@@@@@@@@\n",
      "Predict content is:  tôi cũng nên biết tom sẽ ở đây\n"
     ]
    }
   ],
   "source": [
    "en_content = test_data['en'][4]\n",
    "vi_content = test_data['vi'][4]\n",
    "predict = translation(en_content)\n",
    "print(\"Full content is: \", en_content)\n",
    "print(\"@@@@@@@@@@@@@@@@@@@@@@\")\n",
    "print(\"Sumary content is: \", vi_content)\n",
    "print(\"@@@@@@@@@@@@@@@@@@@@@@\")\n",
    "print(\"Predict content is: \", predict)"
   ]
  },
  {
   "cell_type": "code",
   "execution_count": 48,
   "id": "dbff333a",
   "metadata": {
    "ExecuteTime": {
     "end_time": "2023-05-09T23:43:05.859930Z",
     "start_time": "2023-05-09T23:43:04.600761Z"
    },
    "execution": {
     "iopub.execute_input": "2023-05-09T17:00:36.240611Z",
     "iopub.status.busy": "2023-05-09T17:00:36.240182Z",
     "iopub.status.idle": "2023-05-09T17:00:38.420374Z",
     "shell.execute_reply": "2023-05-09T17:00:38.418396Z"
    },
    "papermill": {
     "duration": 2.204266,
     "end_time": "2023-05-09T17:00:38.422645",
     "exception": false,
     "start_time": "2023-05-09T17:00:36.218379",
     "status": "completed"
    },
    "tags": []
   },
   "outputs": [
    {
     "name": "stdout",
     "output_type": "stream",
     "text": [
      "@@@@@@@@@@@@@@@@@@@@@@\n",
      "Predict content is:  tôi không thích bạn đến lớp trễ\n"
     ]
    }
   ],
   "source": [
    "en_content = \"I don't like you to come to class late\"\n",
    "predict = translation(en_content)\n",
    "\n",
    "print(\"@@@@@@@@@@@@@@@@@@@@@@\")\n",
    "print(\"Predict content is: \", predict)"
   ]
  },
  {
   "cell_type": "markdown",
   "id": "2d71d3c3",
   "metadata": {
    "papermill": {
     "duration": 0.019827,
     "end_time": "2023-05-09T17:00:38.464411",
     "exception": false,
     "start_time": "2023-05-09T17:00:38.444584",
     "status": "completed"
    },
    "tags": []
   },
   "source": [
    "## BLUE"
   ]
  },
  {
   "cell_type": "code",
   "execution_count": 49,
   "id": "e0724ae1",
   "metadata": {
    "ExecuteTime": {
     "end_time": "2023-05-09T23:43:45.032389Z",
     "start_time": "2023-05-09T23:43:05.862937Z"
    },
    "execution": {
     "iopub.execute_input": "2023-05-09T17:00:38.505606Z",
     "iopub.status.busy": "2023-05-09T17:00:38.505192Z",
     "iopub.status.idle": "2023-05-09T17:01:43.531714Z",
     "shell.execute_reply": "2023-05-09T17:01:43.530547Z"
    },
    "papermill": {
     "duration": 65.069383,
     "end_time": "2023-05-09T17:01:43.553423",
     "exception": false,
     "start_time": "2023-05-09T17:00:38.484040",
     "status": "completed"
    },
    "tags": []
   },
   "outputs": [
    {
     "name": "stdout",
     "output_type": "stream",
     "text": [
      "BLEU Score for the entire dataset:  0.6820604101961745\n"
     ]
    }
   ],
   "source": [
    "from nltk.translate.bleu_score import corpus_bleu\n",
    "\n",
    "references = []\n",
    "hypotheses = []\n",
    "\n",
    "for idx in range(30):\n",
    "    en_content = test_data['en'][idx]\n",
    "    vi_content = test_data['vi'][idx]\n",
    "\n",
    "    # Generate the translation\n",
    "    predict = translation(en_content)\n",
    "\n",
    "    # Store the reference translation and the predicted translation\n",
    "    references.append([vi_content.split()])\n",
    "#     print(vi_content.split())\n",
    "    hypotheses.append(predict.split())\n",
    "#     print(predict.split())\n",
    "\n",
    "# Calculate the BLEU score\n",
    "bleu_score = corpus_bleu(references, hypotheses)\n",
    "\n",
    "print(\"BLEU Score for the entire dataset: \", bleu_score)"
   ]
  },
  {
   "cell_type": "markdown",
   "id": "47e96796",
   "metadata": {
    "papermill": {
     "duration": 0.019368,
     "end_time": "2023-05-09T17:01:43.592649",
     "exception": false,
     "start_time": "2023-05-09T17:01:43.573281",
     "status": "completed"
    },
    "tags": []
   },
   "source": [
    "# Tài liệu tham khảo:\n",
    "- https://www.tensorflow.org/text/tutorials/transformer\n",
    "- https://www.kaggle.com/code/ashishsingh226/text-summarization-with-transformers"
   ]
  }
 ],
 "metadata": {
  "kernelspec": {
   "display_name": "Python 3",
   "language": "python",
   "name": "python3"
  },
  "language_info": {
   "codemirror_mode": {
    "name": "ipython",
    "version": 3
   },
   "file_extension": ".py",
   "mimetype": "text/x-python",
   "name": "python",
   "nbconvert_exporter": "python",
   "pygments_lexer": "ipython3",
   "version": "3.10.10"
  },
  "papermill": {
   "default_parameters": {},
   "duration": 525.947559,
   "end_time": "2023-05-09T17:01:46.941886",
   "environment_variables": {},
   "exception": null,
   "input_path": "__notebook__.ipynb",
   "output_path": "__notebook__.ipynb",
   "parameters": {},
   "start_time": "2023-05-09T16:53:00.994327",
   "version": "2.4.0"
  }
 },
 "nbformat": 4,
 "nbformat_minor": 5
}
